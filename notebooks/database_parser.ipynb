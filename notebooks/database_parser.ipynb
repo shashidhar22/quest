{
 "cells": [
  {
   "cell_type": "markdown",
   "metadata": {},
   "source": [
    "# Imports"
   ]
  },
  {
   "cell_type": "code",
   "execution_count": null,
   "metadata": {},
   "outputs": [],
   "source": [
    "import os\n",
    "import re\n",
    "import sys\n",
    "import glob\n",
    "import json\n",
    "import numpy as np\n",
    "import pandas as pd\n",
    "from pathlib import Path\n",
    "from itertools import product\n",
    "from collections import OrderedDict\n"
   ]
  },
  {
   "cell_type": "markdown",
   "metadata": {},
   "source": [
    "# Custom functions"
   ]
  },
  {
   "cell_type": "markdown",
   "metadata": {
    "jp-MarkdownHeadingCollapsed": true
   },
   "source": [
    "## IMGT HLA sequence to dictionary"
   ]
  },
  {
   "cell_type": "code",
   "execution_count": null,
   "metadata": {},
   "outputs": [],
   "source": [
    "def parse_imgt_four_digit(file_paths):\n",
    "    \"\"\"\n",
    "    Parses IMGT/HLA protein FASTA files to extract unique HLA alleles at a \n",
    "    four-digit resolution (e.g., \"A*01:01\") for each allele found in the files. \n",
    "\n",
    "    Parameters:\n",
    "        file_paths (list): List of paths to IMGT/HLA FASTA files.\n",
    "\n",
    "    Returns:\n",
    "        dict: A dictionary where keys are four-digit HLA allele identifiers, and values are \n",
    "              the protein sequences associated with each allele.\n",
    "    \"\"\"\n",
    "    fasta_dict = {}\n",
    "    \n",
    "    for file_path in file_paths:\n",
    "        with open(file_path, 'r') as file:\n",
    "            header = None\n",
    "            sequence = []\n",
    "            for line in file:\n",
    "                line = line.strip()\n",
    "                if line.startswith('>'):\n",
    "                    if header and header not in fasta_dict:\n",
    "                        # Save the previous sequence if it's the first occurrence\n",
    "                        fasta_dict[header] = ''.join(sequence)\n",
    "                    # The second part of the header (after the space) is the full HLA ID\n",
    "                    hla_id_full = line.split()[1]  # \"A*01:01:01:06\"\n",
    "                    \n",
    "                    # Extract the four-digit resolution (e.g., \"A*01:01\")\n",
    "                    hla_id_four_digit = \":\".join(hla_id_full.split(\":\")[:2])  # \"A*01:01\"\n",
    "                    \n",
    "                    # Only proceed if this four-digit HLA ID hasn't been seen\n",
    "                    if hla_id_four_digit not in fasta_dict:\n",
    "                        header = hla_id_four_digit  # Use the four-digit resolution as the key\n",
    "                    else:\n",
    "                        header = None  # Ignore sequences that have been seen\n",
    "                    sequence = []  # Reset the sequence list for the new record\n",
    "                else:\n",
    "                    sequence.append(line)\n",
    "\n",
    "            # Save the last sequence in the file, if not already stored\n",
    "            if header and header not in fasta_dict:\n",
    "                fasta_dict[header] = ''.join(sequence)\n",
    "\n",
    "    return fasta_dict\n",
    "\n",
    "# Usage example: using glob to get all .fasta files in a directory\n",
    "fasta_file_paths = glob.glob('data/tcr_llm/databases/IMGTHLA/fasta/*_prot.fasta')\n",
    "combined_fasta_dict = OrderedDict(parse_imgt_four_digit(fasta_file_paths))"
   ]
  },
  {
   "cell_type": "markdown",
   "metadata": {
    "jp-MarkdownHeadingCollapsed": true
   },
   "source": [
    "## Transform HLA information to 2-digit resolution"
   ]
  },
  {
   "cell_type": "code",
   "execution_count": null,
   "metadata": {},
   "outputs": [],
   "source": [
    "def transform_mhc_restriction(value, fasta_dict):\n",
    "    \"\"\"\n",
    "    Transforms HLA allele identifiers into a standardized format using a\n",
    "    provided FASTA dictionary for four-digit resolution matching when\n",
    "    applicable. This function covers both Class I and Class II HLA alleles,\n",
    "    handling a variety of formats and applying default transformations when\n",
    "    precise matches are unavailable.\n",
    "\n",
    "    Args:\n",
    "        value (str): An HLA allele identifier in various formats (e.g., \n",
    "            \"HLA-B*07:02\", \"HLA-A2\", \"HLA-DPB1\").\n",
    "        fasta_dict (dict): A dictionary where keys are four-digit HLA allele\n",
    "        identifiers and values are amino acid sequences.\n",
    "\n",
    "    Returns:\n",
    "        str: The transformed HLA allele identifier in standardized format\n",
    "        (e.g., \"B*07:02\", \"A*02:01\"). If no transformation applies, the original\n",
    "        value is returned. For unrecognized formats or a TypeError,\n",
    "        returns pd.NA.\n",
    "\n",
    "    Transformation Rules:\n",
    "        - Class I (A, B, C):\n",
    "            * Four-digit alleles (e.g., \"HLA-B*07:02\") -> Remove \"HLA-\" prefix.\n",
    "            * Two-digit alleles (e.g., \"HLA-A2\") -> Convert to four-digit where\n",
    "                possible by checking fasta_dict (e.g., \"A*02:01\" if \"A*02\" \n",
    "                matches in fasta_dict), otherwise defaults to \":01\".\n",
    "        \n",
    "        - Class II (DPA, DPB, DQA, DQB, DRA, DRB):\n",
    "            * Four-digit alleles (e.g., \"HLA-DPB1*02:01\") -> Remove \"HLA-\"\n",
    "                prefix.\n",
    "            * DRB with single field (e.g., \"HLA-DRB1*03\") -> Completes to\n",
    "                \"DRB1*03:01\" if missing the second field.\n",
    "            * No resolution (e.g., \"HLA-DPB1\") -> Adds \"*01:01\" if allele format\n",
    "                matches a Class II allele.\n",
    "\n",
    "        - Class I (HLA-E): Returns four-digit format by removing \"HLA-\" prefix\n",
    "            (e.g., \"HLA-E*01:03\" -> \"E*01:03\").\n",
    "\n",
    "    Example:\n",
    "        transformed_value = transform_mhc_restriction(\"HLA-A2\", fasta_dict)\n",
    "        # Output: \"A*02:01\" (if \"A*02\" is found in fasta_dict) or \"A*02:01\" by\n",
    "        # default.\n",
    "    \"\"\"\n",
    "    # Class I: A, B, C alleles with typical formats like HLA-B*07:02\n",
    "    try:\n",
    "        if re.match(r'^HLA-[ABC]\\*\\d+:\\d+$', value):  # Match HLA-B*07:02, etc.\n",
    "            return value.replace('HLA-', '')  # Remove 'HLA-' prefix\n",
    "        \n",
    "        # Class I: A, B, C with 2-digit resolution (e.g., HLA-A2, HLA-B2)\n",
    "        elif re.match(r'^HLA-[ABC](\\d{1,2})$', value):  # Match HLA-A2, HLA-B02\n",
    "            two_digit_allele = re.sub(r'HLA-([ABC])(\\d{1,2})$', r'\\1*\\2', value)  # Convert to A*02, B*07\n",
    "            # Ensure the number part is always 2 digits (e.g., A2 -> A*02)\n",
    "            two_digit_allele = re.sub(r'([ABC])\\*(\\d{1})$', r'\\1*0\\2', two_digit_allele)  # Convert A*2 -> A*02\n",
    "            \n",
    "            # Look for the first 4-digit match in the sorted dictionary\n",
    "            for key in fasta_dict:\n",
    "                if key.startswith(two_digit_allele):\n",
    "                    return key  # Return the first matching 4-digit allele\n",
    "            return two_digit_allele + \":01\"  # Default to A*02:01 or B*02:01 if no match found\n",
    "        \n",
    "        # Class II: DPA, DPB, DQA, DQB alleles with typical formats like HLA-DPB1*02:01\n",
    "        elif re.match(r'^HLA-D[PQ][AB][12]?\\*\\d+:\\d+$', value):  # Match HLA-DPB1*02:01, HLA-DQA1*05:01\n",
    "            return value.replace('HLA-', '')  # Remove 'HLA-' prefix\n",
    "        \n",
    "        # Class II: DRB (handling DRB1, DRB3, DRB4, DRB5, DRB345)\n",
    "        elif re.match(r'^HLA-DR[AB][1345]?\\*\\d+:\\d+$', value):  # Match HLA-DRB1*15:01, HLA-DRB4*01:03, etc.\n",
    "            return value.replace('HLA-', '')  # Remove 'HLA-' prefix\n",
    "        elif re.match(r'^HLA-DR[AB][1345]?\\*\\d+$', value):  # Match HLA-DRB1*03 (one field)\n",
    "            return re.sub(r'HLA-(DR[AB][1345]?)\\*(\\d+)$', r'\\1*\\2:01', value)  # Add missing second field\n",
    "\n",
    "        \n",
    "        # Class II: DPB1 with no resolution digits (e.g. HLA-DPB1)\n",
    "        elif re.match(r'^HLA-D[PQ][AB][12]?$', value):  # Match HLA-DPB1, HLA-DPA1, etc.\n",
    "            return re.sub(r'HLA-(D[PQ][AB][12]?)$', r'\\1*01:01', value)  # Add missing fields, DPB1*01:01\n",
    "        \n",
    "        # Class I: HLA-E alleles (e.g., HLA-E*01:03)\n",
    "        elif re.match(r'^HLA-E\\*\\d+:\\d+$', value):  # Match HLA-E*01:03\n",
    "            return value.replace('HLA-', '')  # Remove 'HLA-' prefix\n",
    "\n",
    "        else:\n",
    "            return value  # Return as is for other formats\n",
    "    except TypeError:\n",
    "        return(pd.NA)"
   ]
  },
  {
   "cell_type": "markdown",
   "metadata": {},
   "source": [
    "# CEDAR\n",
    "From the CEDAR database we queried for all human T-cell and MHC assays with positive as well as negative data. The query generated three different views that will parsed in the following sections. \n",
    "1. MHC-ligand table\n",
    "2. Receptor table\n",
    "3. T-cell table"
   ]
  },
  {
   "cell_type": "markdown",
   "metadata": {},
   "source": [
    "## T-cell table\n",
    "This view contain information of all T-cell reactivity assay against peptide and neo-antigens"
   ]
  },
  {
   "cell_type": "code",
   "execution_count": null,
   "metadata": {},
   "outputs": [],
   "source": [
    "# Read the T-cell assay table from CEDAR\n",
    "cedar_tcell_path = Path('data/tcr_llm/databases/CEDAR/cedar_tcell_assay_results_table_102824.tsv')\n",
    "cedar_tcell_table = pd.read_csv(cedar_tcell_path, \n",
    "    sep=\"\\t\",\n",
    "    dtype = {\"Reference - PMID\": \"str\"},\n",
    "    names = ['study_id', 'epitope_type', 'peptide', # Rename columns\n",
    "        'epitope_reference_name', 'epitope_source_molecule', \n",
    "        'epitope_source_organism', 'epitope_source_species', 'host_organism', \n",
    "        'host_population', 'host_sex', 'host_age', 'host_mhc_profile',\n",
    "        'assay_method', 'assay_response', 'assay_outcome', 'assay_subject_count',\n",
    "        'assay_positive_count', 'source_tissue',\n",
    "        'mhc_restriction'], header=0).dropna(subset=['study_id']) # Remove any row with missing PMID\n",
    "cedar_tcell_table['study_id'] = cedar_tcell_table['study_id'].astype('int64') # Store PMID as an interger\n",
    "cedar_tcell_table = cedar_tcell_table.loc[cedar_tcell_table['assay_outcome'] == \"Positive\"] # Only keep results where the results were positive"
   ]
  },
  {
   "cell_type": "markdown",
   "metadata": {},
   "source": [
    "### T-cell metadata table\n",
    "The metadata aims to standardize data from across multiple source. All metadata table will contain the same columns and can be merged across datasets. The metadata table will indicate the source database, the study id for each entry and study ID type."
   ]
  },
  {
   "cell_type": "code",
   "execution_count": null,
   "metadata": {},
   "outputs": [],
   "source": [
    "cedar_tcell_metadata = cedar_tcell_table\n",
    "cedar_tcell_metadata['data_source'] = 'cedar_tcell_assay'\n",
    "cedar_tcell_metadata['study_id_type'] = 'PMID'\n",
    "cedar_tcell_metadata = cedar_tcell_metadata[['data_source', 'study_id', \n",
    "    'study_id_type', 'host_organism', 'host_population', 'host_age', 'host_sex',\n",
    "    'host_mhc_profile', 'source_tissue', 'epitope_type', 'peptide',\n",
    "    'epitope_reference_name', 'epitope_source_molecule',\n",
    "    'epitope_source_organism', 'mhc_restriction', 'assay_method',\n",
    "    'assay_response', 'assay_outcome', 'assay_subject_count',\n",
    "    'assay_positive_count']]\n",
    "cedar_tcell_metadata"
   ]
  },
  {
   "cell_type": "markdown",
   "metadata": {},
   "source": [
    "### T-cell sequence table\n",
    "Sequence table aim to standardize the sequence data from all data sources. Each sequence table will contain the TRA and TRB CDR3 sequences, Peptide, MHC chain one and MHC chain two"
   ]
  },
  {
   "cell_type": "code",
   "execution_count": null,
   "metadata": {},
   "outputs": [],
   "source": [
    "cedar_tcell_sequence_table = cedar_tcell_table[['peptide', 'mhc_restriction']]\n",
    "# Apply the transformation function to the 'mhc_restriction' column\n",
    "cedar_tcell_sequence_table['mhc_restriction'] = cedar_tcell_sequence_table['mhc_restriction'].apply(transform_mhc_restriction, fasta_dict=combined_fasta_dict)\n",
    "cedar_tcell_sequence_table['mhc'] = cedar_tcell_sequence_table['mhc_restriction'].apply(lambda mhc: combined_fasta_dict.get(mhc, pd.NA))\n",
    "cedar_tcell_sequence_table['peptide'] = cedar_tcell_sequence_table['peptide'].str.split('+').str[0].str.strip()\n",
    "cedar_tcell_sequence_table['tra'] = pd.NA\n",
    "cedar_tcell_sequence_table['trb'] = pd.NA\n",
    "cedar_tcell_sequence_table['sequence'] =  cedar_tcell_sequence_table['peptide'] + ' ' + cedar_tcell_sequence_table['mhc'] + ';'\n",
    "cedar_tcell_sequence_table = cedar_tcell_sequence_table.drop(columns=['mhc_restriction'])\n",
    "cedar_tcell_sequence_table = cedar_tcell_sequence_table[['tra', 'trb', 'peptide', 'mhc', 'sequence']]\n",
    "cedar_tcell_sequence_table"
   ]
  },
  {
   "cell_type": "markdown",
   "metadata": {},
   "source": [
    "## MHC ligand table\n",
    "MHC ligand assay table catalogs all the positive peptide-MHC interaction reported in CEDAR"
   ]
  },
  {
   "cell_type": "code",
   "execution_count": null,
   "metadata": {},
   "outputs": [],
   "source": [
    "# MHC ligand table\n",
    "cedar_mhc_ligand_path = Path('data/tcr_llm/databases/CEDAR/cedar_mhc_ligand_assay_results_table_102824.tsv')\n",
    "cedar_mhc_ligand_table = pd.read_csv(cedar_mhc_ligand_path, sep=\"\\t\",\n",
    "    dtype = {\"Reference - PMID\": \"str\"},\n",
    "    names = ['study_id', 'epitope_type', 'peptide',\n",
    "        'epitope_reference_name', 'epitope_source_molecule', 'epitope_source_organism',\n",
    "        'epitope_source_species', 'host_organism', 'host_population',\n",
    "        'host_sex', 'host_age', 'host_mhc_profile',\n",
    "        'assay_method', 'assay_response', 'assay_outcome', 'assay_subject_count',\n",
    "        'assay_positive_count', 'source_tissue',\n",
    "        'mhc_restriction'], header=0).dropna(subset=['study_id'])\n",
    "cedar_mhc_ligand_table['study_id'] = cedar_mhc_ligand_table['study_id'].astype('int64')\n",
    "# Retain just the positive peptide-MHC interactions\n",
    "cedar_mhc_ligand_table = cedar_mhc_ligand_table.loc[cedar_mhc_ligand_table['assay_outcome'] == \"Positive\"]\n"
   ]
  },
  {
   "cell_type": "markdown",
   "metadata": {},
   "source": [
    "### MHC ligand metadata table"
   ]
  },
  {
   "cell_type": "code",
   "execution_count": null,
   "metadata": {},
   "outputs": [],
   "source": [
    "cedar_mhc_ligand_metadata = cedar_mhc_ligand_table\n",
    "cedar_mhc_ligand_metadata['data_source'] = 'cedar_tcell_assay'\n",
    "cedar_mhc_ligand_metadata['study_id_type'] = 'PMID'\n",
    "cedar_mhc_ligand_metadata = cedar_mhc_ligand_metadata[['data_source',\n",
    "    'study_id', 'study_id_type', 'host_organism', 'host_population',\n",
    "    'host_age', 'host_sex', 'host_mhc_profile', 'source_tissue', \n",
    "    'epitope_type', 'peptide', 'epitope_reference_name',\n",
    "    'epitope_source_molecule', 'epitope_source_organism', 'mhc_restriction',\n",
    "    'assay_method', 'assay_response', 'assay_outcome', 'assay_subject_count',\n",
    "    'assay_positive_count']]\n",
    "cedar_mhc_ligand_metadata"
   ]
  },
  {
   "cell_type": "markdown",
   "metadata": {},
   "source": [
    "### MHC ligand sequence table"
   ]
  },
  {
   "cell_type": "code",
   "execution_count": null,
   "metadata": {},
   "outputs": [],
   "source": [
    "cedar_mhc_ligand_sequence_table = cedar_mhc_ligand_table[['peptide', 'mhc_restriction']]\n",
    "# Apply the transformation function to the 'mhc_restriction' column\n",
    "cedar_mhc_ligand_sequence_table['mhc_restriction'] = cedar_mhc_ligand_sequence_table['mhc_restriction'].apply(transform_mhc_restriction, fasta_dict=combined_fasta_dict)\n",
    "cedar_mhc_ligand_sequence_table['mhc'] = cedar_mhc_ligand_sequence_table['mhc_restriction'].apply(lambda mhc: combined_fasta_dict.get(mhc, pd.NA))\n",
    "cedar_mhc_ligand_sequence_table['peptide'] = cedar_mhc_ligand_sequence_table['peptide'].str.split('+').str[0].str.strip()\n",
    "cedar_mhc_ligand_sequence_table['tra'] = pd.NA\n",
    "cedar_mhc_ligand_sequence_table['trb'] = pd.NA\n",
    "cedar_mhc_ligand_sequence_table['sequence'] =  cedar_mhc_ligand_sequence_table['peptide'] + ' ' + cedar_mhc_ligand_sequence_table['mhc'] + ';'\n",
    "cedar_mhc_ligand_sequence_table = cedar_mhc_ligand_sequence_table.drop(columns=['mhc_restriction'])\n",
    "cedar_mhc_ligand_sequence_table = cedar_mhc_ligand_sequence_table[['tra', 'trb', 'peptide', 'mhc', 'sequence']]\n"
   ]
  },
  {
   "cell_type": "code",
   "execution_count": null,
   "metadata": {},
   "outputs": [],
   "source": [
    "cedar_mhc_ligand_sequence_table"
   ]
  },
  {
   "cell_type": "markdown",
   "metadata": {},
   "source": [
    "## Receptor table"
   ]
  },
  {
   "cell_type": "code",
   "execution_count": null,
   "metadata": {},
   "outputs": [],
   "source": [
    "# Receptor table\n",
    "cedar_receptor_path = Path('data/tcr_llm/databases/CEDAR/cedar_receptor_results_table_102924.tsv')\n",
    "cedar_receptor_table = pd.read_csv(cedar_receptor_path, sep=\"\\t\",\n",
    "    names = ['recepetor_reference_name', 'study_id', 'peptide',\n",
    "        'epitope_source_molecule', 'epitope_source_organism',\n",
    "        'assay_method', 'chain_one_type', 'trav_gene','trad_gene', 'traj_gene', \n",
    "        'tra_protein_sequence', 'tra_junction_aa', 'tra_cdr1', 'tra_cdr2', \n",
    "        'chain_two_type', 'trbv_gene', 'trbd_gene', 'trbj_gene',\n",
    "        'trb_protein_sequence', 'trb_junction_aa', 'trb_cdr1',\n",
    "        'trb_cdr2'], header=0, index_col=False)\n",
    "cedar_receptor_table['study_id'] = cedar_receptor_table['study_id'].str.extract(r'(\\d{7})')\n",
    "cedar_receptor_table['study_id'] = 'CDID' + cedar_receptor_table['study_id']"
   ]
  },
  {
   "cell_type": "markdown",
   "metadata": {},
   "source": [
    "### Receptor metadata table"
   ]
  },
  {
   "cell_type": "code",
   "execution_count": null,
   "metadata": {},
   "outputs": [],
   "source": [
    "cedar_receptor_metadata = cedar_receptor_table\n",
    "cedar_receptor_metadata['data_source'] = 'cedar_receptor_table'\n",
    "cedar_receptor_metadata['study_id_type'] = 'CEDAR'\n",
    "cedar_receptor_metadata = cedar_receptor_metadata[['data_source', 'study_id',\n",
    "    'study_id_type', 'trav_gene', 'trad_gene', 'traj_gene',\n",
    "    'tra_junction_aa', 'trbv_gene', 'trbd_gene', 'trbj_gene', 'trb_junction_aa',\n",
    "    'epitope_type', 'peptide', 'epitope_source_molecule', \n",
    "    'epitope_source_organism']]\n",
    "cedar_receptor_metadata\n"
   ]
  },
  {
   "cell_type": "markdown",
   "metadata": {},
   "source": [
    "### Receptor sequence table"
   ]
  },
  {
   "cell_type": "code",
   "execution_count": null,
   "metadata": {},
   "outputs": [],
   "source": [
    "# Pull out the tra, trb, peptide, and MHC sequences\n",
    "cedar_receptor_sequence_table = cedar_receptor_table[['peptide', 'tra_junction_aa', 'trb_junction_aa']]\n",
    "cedar_receptor_sequence_table = cedar_receptor_sequence_table.rename(columns={'tra_junction_aa': 'tra', 'trb_junction_aa': 'trb'})\n",
    "cedar_receptor_sequence_table['peptide'] = cedar_receptor_sequence_table['peptide'].str.split('+').str[0].str.strip()\n",
    "cedar_receptor_sequence_table = cedar_receptor_sequence_table.drop_duplicates()\n",
    "cedar_receptor_sequence_table['sequence'] = cedar_receptor_sequence_table[['tra', 'trb', 'peptide']].agg(lambda x: ' '.join(x.dropna()) + ';', axis=1)\n",
    "cedar_receptor_sequence_table = cedar_receptor_sequence_table[['tra', 'trb', 'peptide', 'sequence']]\n",
    "cedar_receptor_sequence_table"
   ]
  },
  {
   "cell_type": "markdown",
   "metadata": {},
   "source": [
    "## CEDAR Merged sequence table"
   ]
  },
  {
   "cell_type": "code",
   "execution_count": null,
   "metadata": {},
   "outputs": [],
   "source": [
    "# Concat the three sequence tables from the three different CEDAR views\n",
    "cedar_sequence_table = pd.concat([cedar_tcell_sequence_table, cedar_mhc_ligand_sequence_table, cedar_receptor_sequence_table])\n",
    "cedar_sequence_table = cedar_sequence_table.drop_duplicates()\n",
    "cedar_sequence_table"
   ]
  },
  {
   "cell_type": "markdown",
   "metadata": {},
   "source": [
    "# IEDB\n",
    "From the IEDB database we queried for all human T-cell and MHC assays with positive as well as negative data. The query generated three different views that will parsed in the following sections. \n",
    "1. MHC-ligand table\n",
    "2. Receptor table\n",
    "3. T-cell table\n",
    "\n",
    "**NOTE**: IEDB and CEDAR follow a very similar structure. The notebook replicates the code, but the data loader scripts will have a single script to \n",
    "read and format IEDB and CEDAR"
   ]
  },
  {
   "cell_type": "markdown",
   "metadata": {},
   "source": [
    "## T-cell assay table"
   ]
  },
  {
   "cell_type": "code",
   "execution_count": null,
   "metadata": {},
   "outputs": [],
   "source": [
    "# T-cell table\n",
    "iedb_tcell_path = Path('quest/data/tcr_llm/databases/IEDB/iedb_tcell_assay_results_table_102924.tsv')\n",
    "iedb_tcell_table = pd.read_csv(iedb_tcell_path, \n",
    "    sep=\"\\t\",\n",
    "    dtype = {\"Reference - PMID\": \"str\"},\n",
    "    names = ['study_id', 'epitope_type', 'peptide',\n",
    "        'epitope_reference_name', 'epitope_source_molecule', 'epitope_source_organism',\n",
    "        'epitope_source_species', 'host_organism', 'host_population',\n",
    "        'host_sex', 'host_age', 'host_mhc_profile',\n",
    "        'assay_method', 'assay_response', 'assay_outcome', 'assay_subject_count',\n",
    "        'assay_positive_count', 'source_tissue',\n",
    "        'mhc_restriction'], header=0).dropna(subset=['study_id'])\n",
    "iedb_tcell_table['study_id'] = iedb_tcell_table['study_id'].astype('int64')\n",
    "iedb_tcell_table = iedb_tcell_table.loc[iedb_tcell_table['assay_outcome'] == \"Positive\"]"
   ]
  },
  {
   "cell_type": "markdown",
   "metadata": {},
   "source": [
    "### T-cell assay metadata table"
   ]
  },
  {
   "cell_type": "code",
   "execution_count": null,
   "metadata": {},
   "outputs": [],
   "source": [
    "iedb_tcell_metadata = iedb_tcell_table\n",
    "iedb_tcell_metadata['data_source'] = 'iedb_tcell_assay'\n",
    "iedb_tcell_metadata['study_id_type'] = 'PMID'\n",
    "iedb_tcell_metadata = iedb_tcell_metadata[['data_source', 'study_id',\n",
    "    'study_id_type', 'host_organism', 'host_population', 'host_age', 'host_sex',\n",
    "    'host_mhc_profile', 'source_tissue', 'epitope_type', 'peptide',\n",
    "    'epitope_reference_name', 'epitope_source_molecule',\n",
    "    'epitope_source_organism', 'mhc_restriction', 'assay_method',\n",
    "    'assay_response', 'assay_outcome', 'assay_subject_count', \n",
    "    'assay_positive_count']]\n",
    "iedb_tcell_metadata"
   ]
  },
  {
   "cell_type": "markdown",
   "metadata": {},
   "source": [
    "### T-cell assay sequence table"
   ]
  },
  {
   "cell_type": "code",
   "execution_count": null,
   "metadata": {},
   "outputs": [],
   "source": [
    "iedb_tcell_sequence_table = iedb_tcell_table[['peptide', 'mhc_restriction']]\n",
    "# Apply the transformation function to the 'mhc_restriction' column\n",
    "iedb_tcell_sequence_table['mhc_restriction'] = iedb_tcell_sequence_table['mhc_restriction'].apply(transform_mhc_restriction, fasta_dict=combined_fasta_dict)\n",
    "iedb_tcell_sequence_table['mhc'] = iedb_tcell_sequence_table['mhc_restriction'].apply(lambda mhc: combined_fasta_dict.get(mhc, pd.NA))\n",
    "iedb_tcell_sequence_table['peptide'] = iedb_tcell_sequence_table['peptide'].str.split('+').str[0].str.strip()\n",
    "iedb_tcell_sequence_table['tra'] = pd.NA\n",
    "iedb_tcell_sequence_table['trb'] = pd.NA\n",
    "iedb_tcell_sequence_table['sequence'] =  iedb_tcell_sequence_table['peptide'] + ' ' + iedb_tcell_sequence_table['mhc'] + ';'\n",
    "iedb_tcell_sequence_table = iedb_tcell_sequence_table.drop(columns=['mhc_restriction']).drop_duplicates()\n",
    "iedb_tcell_sequence_table"
   ]
  },
  {
   "cell_type": "markdown",
   "metadata": {},
   "source": [
    "## MHC Ligand assay table"
   ]
  },
  {
   "cell_type": "markdown",
   "metadata": {},
   "source": [
    "### MHC ligand metadata table"
   ]
  },
  {
   "cell_type": "code",
   "execution_count": null,
   "metadata": {},
   "outputs": [],
   "source": [
    "# MHC ligand table\n",
    "iedb_mhc_ligand_path = Path('data/tcr_llm/databases/IEDB/iedb_mhcligand_assay_results_table_103024.tsv')\n",
    "iedb_mhc_ligand_table = pd.read_csv(iedb_mhc_ligand_path, sep=\"\\t\",\n",
    "    dtype = {\"Reference - PMID\": \"str\"},\n",
    "    names = ['study_id', 'epitope_type', 'peptide',\n",
    "        'epitope_reference_name', 'epitope_source_molecule',\n",
    "        'epitope_source_organism', 'epitope_source_species', 'host_organism', \n",
    "        'host_population', 'host_sex', 'host_age', 'host_mhc_profile',\n",
    "        'assay_method', 'assay_response', 'assay_outcome', \n",
    "        'assay_subject_count', 'assay_positive_count', 'source_tissue',\n",
    "        'mhc_restriction'], header=0).dropna(subset=['study_id'])\n",
    "iedb_mhc_ligand_table['study_id'] = iedb_mhc_ligand_table['study_id'].astype('int64')\n",
    "iedb_mhc_ligand_table = iedb_mhc_ligand_table.loc[iedb_mhc_ligand_table['assay_outcome'] == \"Positive\"]\n",
    "iedb_mhc_ligand_metadata = iedb_mhc_ligand_table\n",
    "iedb_mhc_ligand_metadata['data_source'] = 'iedb_mhc_ligand_assay'\n",
    "iedb_mhc_ligand_metadata['study_id_type'] = 'PMID'\n",
    "iedb_mhc_ligand_metadata = iedb_mhc_ligand_metadata[['data_source', 'study_id',\n",
    "    'study_id_type', 'host_organism', 'host_population',\n",
    "    'host_age', 'host_sex', 'host_mhc_profile', 'source_tissue', \n",
    "    'epitope_type', 'peptide', 'epitope_reference_name',\n",
    "    'epitope_source_molecule', 'epitope_source_organism', 'mhc_restriction',\n",
    "    'assay_method', 'assay_response', 'assay_outcome', 'assay_subject_count',\n",
    "    'assay_positive_count']]\n",
    "iedb_mhc_ligand_metadata"
   ]
  },
  {
   "cell_type": "markdown",
   "metadata": {},
   "source": [
    "### MHC ligand sequence table"
   ]
  },
  {
   "cell_type": "code",
   "execution_count": null,
   "metadata": {},
   "outputs": [],
   "source": [
    "iedb_mhc_ligand_sequence_table = iedb_mhc_ligand_table[['peptide', 'mhc_restriction']]\n",
    "# Apply the transformation function to the 'mhc_restriction' column\n",
    "iedb_mhc_ligand_sequence_table['mhc_restriction'] = iedb_mhc_ligand_sequence_table['mhc_restriction'].apply(transform_mhc_restriction, fasta_dict=combined_fasta_dict)\n",
    "iedb_mhc_ligand_sequence_table['mhc'] = iedb_mhc_ligand_sequence_table['mhc_restriction'].apply(lambda mhc: combined_fasta_dict.get(mhc, pd.NA))\n",
    "iedb_mhc_ligand_sequence_table['peptide'] = iedb_mhc_ligand_sequence_table['peptide'].str.split('+').str[0].str.strip()\n",
    "iedb_mhc_ligand_sequence_table['tra'] = pd.NA\n",
    "iedb_mhc_ligand_sequence_table['trb'] = pd.NA\n",
    "iedb_mhc_ligand_sequence_table = iedb_mhc_ligand_sequence_table.loc[~iedb_mhc_ligand_sequence_table['peptide'].str.contains(r'[a-z0-9]', regex=True)]\n",
    "iedb_mhc_ligand_sequence_table['peptide'] = iedb_mhc_ligand_sequence_table['peptide'].str.replace(r'\\s+', '', regex=True)\n",
    "iedb_mhc_ligand_sequence_table['sequence'] =  iedb_mhc_ligand_sequence_table['peptide'] + ' ' + iedb_mhc_ligand_sequence_table['mhc'] + ';'\n",
    "iedb_mhc_ligand_sequence_table = iedb_mhc_ligand_sequence_table.drop(columns=['mhc_restriction'])\n",
    "iedb_mhc_ligand_sequence_table = iedb_mhc_ligand_sequence_table[['tra', 'trb', 'peptide', 'mhc', 'sequence']].drop_duplicates()"
   ]
  },
  {
   "cell_type": "code",
   "execution_count": null,
   "metadata": {},
   "outputs": [],
   "source": [
    "iedb_mhc_ligand_sequence_table"
   ]
  },
  {
   "cell_type": "markdown",
   "metadata": {},
   "source": [
    "## Receptor table"
   ]
  },
  {
   "cell_type": "code",
   "execution_count": null,
   "metadata": {},
   "outputs": [],
   "source": [
    "# Receptor table\n",
    "iedb_receptor_path = Path('data/tcr_llm/databases/IEDB/iedb_receptor_results_table_103024.tsv')\n",
    "iedb_receptor_table = pd.read_csv(iedb_receptor_path, sep=\"\\t\",low_memory=False,\n",
    "    names = ['study_id', 'recepetor_reference_name', 'receptor_type', 'peptide',\n",
    "        'epitope_source_molecule', 'epitope_source_organism',\n",
    "        'assay_method', 'mhc_restriction', 'chain_one_type', 'trav_gene','trad_gene', 'traj_gene', \n",
    "        'tra_protein_sequence', 'tra_junction_aa', 'tra_cdr1', 'tra_cdr2', \n",
    "        'chain_two_type', 'trbv_gene', 'trbd_gene', 'trbj_gene',\n",
    "        'trb_protein_sequence', 'trb_junction_aa', 'trb_cdr1',\n",
    "        'trb_cdr2'], header=0, index_col=False)\n",
    "iedb_receptor_table['study_id'] = 'IEDBID' + iedb_receptor_table['study_id'].astype(str)\n",
    "iedb_receptor_table = iedb_receptor_table.drop_duplicates()\n",
    "iedb_receptor_table"
   ]
  },
  {
   "cell_type": "markdown",
   "metadata": {},
   "source": [
    "### Receptor metadata table"
   ]
  },
  {
   "cell_type": "code",
   "execution_count": null,
   "metadata": {},
   "outputs": [],
   "source": [
    "iedb_receptor_metadata = iedb_receptor_table\n",
    "iedb_receptor_metadata['data_source'] = 'iedb_receptor_table'\n",
    "iedb_receptor_metadata['study_id_type'] = 'IEDB'\n",
    "iedb_receptor_metadata = iedb_receptor_metadata[['data_source', 'study_id', \n",
    "    'study_id_type', 'trav_gene', 'trad_gene', 'traj_gene', 'tra_junction_aa',\n",
    "    'trbv_gene', 'trbd_gene', 'trbj_gene', 'trb_junction_aa', 'peptide', \n",
    "    'epitope_source_molecule', 'epitope_source_organism', 'mhc_restriction']]\n",
    "iedb_receptor_metadata\n"
   ]
  },
  {
   "cell_type": "markdown",
   "metadata": {},
   "source": [
    "### Receptor sequence table"
   ]
  },
  {
   "cell_type": "code",
   "execution_count": null,
   "metadata": {},
   "outputs": [],
   "source": [
    "iedb_receptor_sequence_table = iedb_receptor_table[['tra_junction_aa', 'trb_junction_aa', 'peptide', 'mhc_restriction']]\n",
    "iedb_receptor_sequence_table['mhc_restriction'] = iedb_receptor_sequence_table['mhc_restriction'].str.split(', ')\n",
    "iedb_receptor_sequence_table = iedb_receptor_sequence_table.explode('mhc_restriction')\n",
    "iedb_receptor_sequence_table['mhc_restriction'] = iedb_receptor_sequence_table['mhc_restriction'].apply(transform_mhc_restriction, fasta_dict=combined_fasta_dict)\n",
    "iedb_receptor_sequence_table['mhc'] = iedb_receptor_sequence_table['mhc_restriction'].apply(lambda mhc: combined_fasta_dict.get(mhc, pd.NA))\n",
    "iedb_receptor_sequence_table = iedb_receptor_sequence_table.rename(columns={'tra_junction_aa': 'tra', 'trb_junction_aa': 'trb'})\n",
    "iedb_receptor_sequence_table = iedb_receptor_sequence_table.drop(columns=['mhc_restriction']).drop_duplicates()\n",
    "iedb_receptor_sequence_table = iedb_receptor_sequence_table.loc[~iedb_receptor_sequence_table['peptide'].str.contains(r'[a-z0-9]', regex=True)]\n",
    "iedb_receptor_sequence_table['peptide'] = iedb_receptor_sequence_table['peptide'].str.replace(r'\\s+', '', regex=True)\n",
    "iedb_receptor_sequence_table['peptide'] = iedb_receptor_sequence_table['peptide'].str.split('+').str[0].str.strip()\n",
    "iedb_receptor_sequence_table = iedb_receptor_sequence_table.drop_duplicates()\n",
    "iedb_receptor_sequence_table['sequence'] = iedb_receptor_sequence_table[['tra', 'trb', 'peptide', 'mhc']].agg(lambda x: ' '.join(x.dropna()) + ';', axis=1)\n",
    "iedb_receptor_sequence_table = iedb_receptor_sequence_table[['tra', 'trb', 'peptide', 'mhc', 'sequence']]\n",
    "iedb_receptor_sequence_table.loc[~iedb_receptor_sequence_table['tra'].isna() & ~iedb_receptor_sequence_table['trb'].isna()]"
   ]
  },
  {
   "cell_type": "markdown",
   "metadata": {},
   "source": [
    "## IEDB Merged sequences"
   ]
  },
  {
   "cell_type": "code",
   "execution_count": null,
   "metadata": {},
   "outputs": [],
   "source": [
    "iedb_sequence_table = pd.concat([iedb_tcell_sequence_table, iedb_mhc_ligand_sequence_table, iedb_receptor_sequence_table])\n",
    "iedb_sequence_table = iedb_sequence_table.drop_duplicates()\n",
    "iedb_sequence_table"
   ]
  },
  {
   "cell_type": "markdown",
   "metadata": {},
   "source": [
    "# IMGT HLA\n",
    "\n",
    "IMGT HLA maintains a database of all known and validated MHC alleles. Our training data will contain the sequences for all MHC allele reported in humans"
   ]
  },
  {
   "cell_type": "code",
   "execution_count": null,
   "metadata": {},
   "outputs": [],
   "source": [
    "imgt_hla_sequence_table = pd.DataFrame(combined_fasta_dict.values(), columns=['mhc'])\n",
    "imgt_hla_sequence_table['sequence'] = imgt_hla_sequence_table['mhc'] + ';'\n",
    "imgt_hla_sequence_table"
   ]
  },
  {
   "cell_type": "markdown",
   "metadata": {},
   "source": [
    "# iReceptor\n",
    "\n",
    "iReceptor is a public database that store TCR sequencing datasets from publications. These are stored in six parts:\n",
    "1. AIRR COVID 19\n",
    "2. iReceptor public archive 1\n",
    "3. iReceptor public archive 2\n",
    "4. iReceptor public archive 3\n",
    "5. University of munster\n",
    "6. VDJServer"
   ]
  },
  {
   "cell_type": "markdown",
   "metadata": {},
   "source": [
    "## AIRR COVID 19\n",
    "This database contains 85130 paired TCR sequences (from https://covid19-1.ireceptor.org/airr/v1/). Primarily from the 10X platform. The metadata information for each sample is stored in a JSON file."
   ]
  },
  {
   "cell_type": "code",
   "execution_count": null,
   "metadata": {},
   "outputs": [],
   "source": [
    "airr_covid_path = Path('data/tcr_llm/databases/ireceptor/airr-covid-19.tsv')\n",
    "airr_covid_table = pd.read_csv(airr_covid_path, sep = \"\\t\")\n",
    "airr_covid_table = airr_covid_table[['data_processing_id', 'repertoire_id', \n",
    "    'cell_id', 'clone_id', 'productive', 'locus', 'v_call', 'd_call', 'j_call',\n",
    "    'cdr1_aa', 'cdr2_aa', 'cdr3_aa', 'junction_aa']]\n",
    "airr_covid_table = airr_covid_table.loc[airr_covid_table['productive'] == 'T']\n",
    "airr_covid_tra_table = airr_covid_table.loc[airr_covid_table['locus'] == 'TRA'][['data_processing_id', 'cell_id', 'clone_id', 'v_call', 'd_call', 'j_call', 'junction_aa']]\n",
    "airr_covid_tra_table = airr_covid_tra_table.rename(columns={'v_call': 'trav_gene',\n",
    "    'd_call': 'trad_gene', 'j_call': 'traj_gene', 'junction_aa': 'tra_junction_aa'})\n",
    "airr_covid_trb_table = airr_covid_table.loc[airr_covid_table['locus'] == 'TRB'][['data_processing_id', 'cell_id', 'clone_id', 'v_call', 'd_call', 'j_call', 'junction_aa']]\n",
    "airr_covid_trb_table = airr_covid_trb_table.rename(columns={'v_call': 'trbv_gene',\n",
    "    'd_call': 'trbd_gene', 'j_call': 'trbj_gene', 'junction_aa': 'trb_junction_aa'})\n",
    "airr_covid_tcr_table = pd.merge(airr_covid_tra_table, airr_covid_trb_table, \n",
    "    on=['data_processing_id', 'cell_id', 'clone_id']).rename(columns={'data_processing_id': 'repertoire_id'})\n",
    "airr_covid_tcr_table = airr_covid_tcr_table.drop(columns=['cell_id', 'clone_id'])"
   ]
  },
  {
   "cell_type": "code",
   "execution_count": null,
   "metadata": {},
   "outputs": [],
   "source": [
    "airr_covid_meta_path = Path(\"data/tcr_llm/databases/ireceptor/airr-covid-19-metadata.json\")\n",
    "with open(airr_covid_meta_path) as meta_file:\n",
    "    airr_covid_metadata = json.load(meta_file)\n",
    "airr_metadata_list = list()\n",
    "for repertoires in airr_covid_metadata[\"Repertoire\"]:\n",
    "    repertoire_dict = dict()\n",
    "    repertoire_dict['study_id'] = repertoires['study']['study_id']\n",
    "    repertoire_dict['repertoire_id'] = repertoires['data_processing'][0]['data_processing_id']\n",
    "    repertoire_dict['host_organism'] = repertoires['subject']['species']['label']\n",
    "    if repertoires['subject']['diagnosis'][0]['disease_diagnosis']['label'] == None:\n",
    "        repertoire_dict['condition_studies'] = repertoires['subject']['diagnosis'][0]['study_group_description']\n",
    "    else:\n",
    "        repertoire_dict['condition_studies'] = repertoires['subject']['diagnosis'][0]['study_group_description'] + ' ' + repertoires['subject']['diagnosis'][0]['disease_diagnosis']['label']\n",
    "    repertoire_dict['age'] = repertoires['subject']['age']\n",
    "    repertoire_dict['sex'] = repertoires['subject']['sex']\n",
    "    repertoire_dict['population_surveyed'] = repertoires['subject']['race']\n",
    "    mhc_list = set()\n",
    "    for mhc_genotypes in repertoires['subject']['genotype']['mhc_genotype_set']['mhc_genotype_list']:\n",
    "        for alleles in mhc_genotypes['mhc_alleles']:\n",
    "            if alleles['allele_designation'] == None:\n",
    "                continue\n",
    "            else:\n",
    "                mhc_list.add(alleles['allele_designation'])\n",
    "    repertoire_dict['mhc_profile'] = ','.join(sorted(list(mhc_list))) if list(mhc_list) else pd.NA\n",
    "    repertoire_dict['source_tissue'] = repertoires['sample'][0]['tissue']['label']\n",
    "    airr_metadata_list.append(repertoire_dict)\n",
    "airr_covid_metadata_table = pd.DataFrame(airr_metadata_list).drop_duplicates()\n",
    "airr_covid_metadata_table = pd.merge(airr_covid_metadata_table, airr_covid_tcr_table, on = \"repertoire_id\", how = \"inner\")\n",
    "airr_covid_metadata_table"
   ]
  },
  {
   "cell_type": "code",
   "execution_count": null,
   "metadata": {},
   "outputs": [],
   "source": [
    "airr_covid_sequence_table = airr_covid_metadata_table[['tra_junction_aa', 'trb_junction_aa']].rename(columns={'tra_junction_aa': 'tra', 'trb_junction_aa': 'trb'})\n",
    "airr_covid_sequence_table['sequence'] = airr_covid_sequence_table['tra'] + ' ' + airr_covid_sequence_table['trb'] + ';'\n",
    "airr_covid_sequence_table = airr_covid_sequence_table.drop_duplicates()"
   ]
  },
  {
   "cell_type": "markdown",
   "metadata": {},
   "source": [
    "## iReceptor public archive part 1\n",
    "\n",
    "Contains bulk TCR sequencing data with 201960232 sequences (from https://ipa4.ireceptor.org/airr/v1/). Majority of sequences are TRB CDR3 sequences"
   ]
  },
  {
   "cell_type": "code",
   "execution_count": null,
   "metadata": {},
   "outputs": [],
   "source": [
    "ireceptor_paone_path = Path('/home/sravisha/projects/quest/data/tcr_llm/databases/ireceptor/ireceptor-public-archive_part1.tsv')\n",
    "ireceptor_paone_table = pd.read_csv(ireceptor_paone_path, sep = \"\\t\", nrows=500000)\n",
    "ireceptor_paone_table = ireceptor_paone_table[['repertoire_id', \n",
    "    'cell_id', 'clone_id', 'productive', 'locus', 'v_call', 'd_call', 'j_call',\n",
    "    'cdr1_aa', 'cdr2_aa', 'cdr3_aa', 'junction_aa']]\n",
    "ireceptor_paone_table = ireceptor_paone_table.loc[ireceptor_paone_table['productive'] == 'T']\n",
    "ireceptor_paone_trb_table = ireceptor_paone_table.loc[ireceptor_paone_table['locus'] == 'TRB'][['repertoire_id',  'cell_id', 'clone_id', 'v_call', 'd_call', 'j_call', 'junction_aa']]\n",
    "ireceptor_paone_trb_table['repertoire_id'] = ireceptor_paone_table['repertoire_id'].astype('str')"
   ]
  },
  {
   "cell_type": "markdown",
   "metadata": {},
   "source": [
    "### iReceptor PA1 metadata table"
   ]
  },
  {
   "cell_type": "code",
   "execution_count": null,
   "metadata": {},
   "outputs": [],
   "source": [
    "ireceptor_paone_meta_path = Path(\"/home/sravisha/projects/quest/data/tcr_llm/databases/ireceptor/ireceptor-public-archive_part1-metadata.json\")\n",
    "with open(ireceptor_paone_meta_path) as meta_file:\n",
    "    ireceptor_paone_metadata = json.load(meta_file)\n",
    "ireceptor_paone_metadata_list = list()\n",
    "for repertoires in ireceptor_paone_metadata[\"Repertoire\"]:\n",
    "    repertoire_dict = dict()\n",
    "    repertoire_dict['study_id'] = repertoires['study']['study_id']\n",
    "    repertoire_dict['repertoire_id'] = repertoires['repertoire_id']\n",
    "    repertoire_dict['host_organism'] = repertoires['subject']['species']['label']\n",
    "    if repertoires['subject']['diagnosis'][0]['disease_diagnosis']['label'] == None:\n",
    "        repertoire_dict['condition_studies'] = repertoires['subject']['diagnosis'][0]['study_group_description']\n",
    "    else:\n",
    "        repertoire_dict['condition_studies'] = repertoires['subject']['diagnosis'][0]['study_group_description'] + ' ' + repertoires['subject']['diagnosis'][0]['disease_diagnosis']['label']\n",
    "    repertoire_dict['age'] = repertoires['subject']['age']\n",
    "    repertoire_dict['sex'] = repertoires['subject']['sex']\n",
    "    repertoire_dict['population_surveyed'] = repertoires['subject']['race']\n",
    "    mhc_list = set()\n",
    "    for mhc_genotypes in repertoires['subject']['genotype']['mhc_genotype_set']['mhc_genotype_list']:\n",
    "        for alleles in mhc_genotypes['mhc_alleles']:\n",
    "            if alleles['allele_designation'] == None:\n",
    "                continue\n",
    "            else:\n",
    "                mhc_list.add(alleles['allele_designation'])\n",
    "    repertoire_dict['mhc_profile'] = ','.join(sorted(list(mhc_list))) if list(mhc_list) else pd.NA\n",
    "    repertoire_dict['source_tissue'] = repertoires['sample'][0]['tissue']['label']\n",
    "    ireceptor_paone_metadata_list.append(repertoire_dict)\n",
    "ireceptor_paone_metadata_table = pd.DataFrame(ireceptor_paone_metadata_list).drop_duplicates()\n",
    "ireceptor_paone_metadata_table['repertoire_id'] = ireceptor_paone_metadata_table['repertoire_id'].astype('str')\n",
    "ireceptor_paone_metadata_table = pd.merge(ireceptor_paone_metadata_table, ireceptor_paone_trb_table, on = \"repertoire_id\", how = \"inner\")\n",
    "ireceptor_paone_metadata_table"
   ]
  },
  {
   "cell_type": "markdown",
   "metadata": {},
   "source": [
    "### iReceptor PA1 sequence table"
   ]
  },
  {
   "cell_type": "code",
   "execution_count": null,
   "metadata": {},
   "outputs": [],
   "source": [
    "ireceptor_paone_sequence_table = ireceptor_paone_metadata_table[['junction_aa']]\n",
    "ireceptor_paone_sequence_table = ireceptor_paone_sequence_table.loc[ireceptor_paone_sequence_table['junction_aa'].notna()]\n",
    "ireceptor_paone_sequence_table = ireceptor_paone_sequence_table.loc[~ireceptor_paone_sequence_table['junction_aa'].str.contains('_')]\n",
    "ireceptor_paone_sequence_table = ireceptor_paone_sequence_table.rename(columns={'junction_aa': 'trb'})\n",
    "ireceptor_paone_sequence_table['sequence'] = ireceptor_paone_sequence_table['trb'] + ';'\n",
    "ireceptor_paone_sequence_table = ireceptor_paone_sequence_table.drop_duplicates()\n",
    "ireceptor_paone_sequence_table"
   ]
  },
  {
   "cell_type": "markdown",
   "metadata": {},
   "source": [
    "## iReceptor public archive 2\n",
    "\n",
    "This second part of the iReceptor database pre-dominantly contains bulkd TRB sequencing data with 156523762 sequences (from https://ipa5.ireceptor.org/airr/v1/)"
   ]
  },
  {
   "cell_type": "code",
   "execution_count": null,
   "metadata": {},
   "outputs": [],
   "source": [
    "ireceptor_patwo_path = Path(\"data/tcr_llm/databases/ireceptor/ireceptor-public-archive_part2.tsv')\n",
    "ireceptor_patwo_table = pd.read_csv(ireceptor_patwo_path, sep = \"\\t\", nrows=500000)\n",
    "ireceptor_patwo_table = ireceptor_patwo_table[['repertoire_id', \n",
    "    'cell_id', 'clone_id', 'productive', 'locus', 'v_call', 'd_call', 'j_call',\n",
    "    'cdr1_aa', 'cdr2_aa', 'cdr3_aa', 'junction_aa']]\n",
    "ireceptor_patwo_table = ireceptor_patwo_table.loc[ireceptor_patwo_table['productive'] == 'T']\n",
    "ireceptor_patwo_trb_table = ireceptor_patwo_table.loc[ireceptor_patwo_table['locus'] == 'TRB'][['repertoire_id',  'cell_id', 'clone_id', 'v_call', 'd_call', 'j_call', 'junction_aa']]\n",
    "ireceptor_patwo_trb_table['repertoire_id'] = ireceptor_patwo_table['repertoire_id'].astype('str')"
   ]
  },
  {
   "cell_type": "markdown",
   "metadata": {},
   "source": [
    "### iReceptor PA2 metadata"
   ]
  },
  {
   "cell_type": "code",
   "execution_count": null,
   "metadata": {},
   "outputs": [],
   "source": [
    "ireceptor_patwo_meta_path = Path(\"data/tcr_llm/databases/ireceptor/ireceptor-public-archive_part2-metadata.json\")\n",
    "with open(ireceptor_patwo_meta_path) as meta_file:\n",
    "    ireceptor_patwo_metadata = json.load(meta_file)\n",
    "ireceptor_patwo_metadata_list = list()\n",
    "for repertoires in ireceptor_patwo_metadata[\"Repertoire\"]:\n",
    "    repertoire_dict = dict()\n",
    "    repertoire_dict['study_id'] = repertoires['study']['study_id']\n",
    "    repertoire_dict['repertoire_id'] = repertoires['repertoire_id']\n",
    "    repertoire_dict['host_organism'] = repertoires['subject']['species']['label']\n",
    "    if repertoires['subject']['diagnosis'][0]['disease_diagnosis']['label'] == None:\n",
    "        repertoire_dict['condition_studies'] = repertoires['subject']['diagnosis'][0]['study_group_description']\n",
    "    else:\n",
    "        repertoire_dict['condition_studies'] = repertoires['subject']['diagnosis'][0]['study_group_description'] + ' ' + repertoires['subject']['diagnosis'][0]['disease_diagnosis']['label']\n",
    "    repertoire_dict['age'] = repertoires['subject']['age']\n",
    "    repertoire_dict['sex'] = repertoires['subject']['sex']\n",
    "    repertoire_dict['population_surveyed'] = repertoires['subject']['race']\n",
    "    mhc_list = set()\n",
    "    for mhc_genotypes in repertoires['subject']['genotype']['mhc_genotype_set']['mhc_genotype_list']:\n",
    "        for alleles in mhc_genotypes['mhc_alleles']:\n",
    "            if alleles['allele_designation'] == None:\n",
    "                continue\n",
    "            else:\n",
    "                mhc_list.add(alleles['allele_designation'])\n",
    "    repertoire_dict['mhc_profile'] = ','.join(sorted(list(mhc_list))) if list(mhc_list) else pd.NA\n",
    "    repertoire_dict['source_tissue'] = repertoires['sample'][0]['tissue']['label']\n",
    "    ireceptor_patwo_metadata_list.append(repertoire_dict)\n",
    "ireceptor_patwo_metadata_table = pd.DataFrame(ireceptor_patwo_metadata_list).drop_duplicates()\n",
    "ireceptor_patwo_metadata_table['repertoire_id'] = ireceptor_patwo_metadata_table['repertoire_id'].astype('str')\n",
    "ireceptor_patwo_metadata_table = pd.merge(ireceptor_patwo_metadata_table, ireceptor_patwo_trb_table, on = \"repertoire_id\", how = \"inner\")\n",
    "ireceptor_patwo_metadata_table"
   ]
  },
  {
   "cell_type": "markdown",
   "metadata": {},
   "source": [
    "### iReceptor PA2 sequence table"
   ]
  },
  {
   "cell_type": "code",
   "execution_count": null,
   "metadata": {},
   "outputs": [],
   "source": [
    "ireceptor_patwo_sequence_table = ireceptor_patwo_metadata_table[['junction_aa']]\n",
    "ireceptor_patwo_sequence_table = ireceptor_patwo_sequence_table.loc[ireceptor_patwo_sequence_table['junction_aa'].notna()]\n",
    "ireceptor_patwo_sequence_table = ireceptor_patwo_sequence_table.loc[~ireceptor_patwo_sequence_table['junction_aa'].str.contains('_')]\n",
    "ireceptor_patwo_sequence_table = ireceptor_patwo_sequence_table.rename(columns={'junction_aa': 'trb'})\n",
    "ireceptor_patwo_sequence_table['sequence'] = ireceptor_patwo_sequence_table['trb'] + ';'\n",
    "ireceptor_patwo_sequence_table = ireceptor_patwo_sequence_table.drop_duplicates()\n",
    "ireceptor_patwo_sequence_table"
   ]
  },
  {
   "cell_type": "markdown",
   "metadata": {},
   "source": [
    "## iReceptor public archive part 3\n",
    "\n",
    "The third fragment of the iReceptor public archive contains 118771 paired TCR sequences (from https://ipa6.ireceptor.org/airr/v1/)"
   ]
  },
  {
   "cell_type": "code",
   "execution_count": null,
   "metadata": {},
   "outputs": [],
   "source": [
    "ireceptor_pathree_path = Path('data/tcr_llm/databases/ireceptor/ireceptor-public-archive_part3.tsv')\n",
    "ireceptor_pathree_table = pd.read_csv(ireceptor_pathree_path, sep = \"\\t\")\n",
    "ireceptor_pathree_table = ireceptor_pathree_table[['data_processing_id', 'repertoire_id', \n",
    "    'cell_id', 'clone_id', 'productive', 'locus', 'v_call', 'd_call', 'j_call',\n",
    "    'cdr1_aa', 'cdr2_aa', 'cdr3_aa', 'junction_aa']]\n",
    "ireceptor_pathree_table = ireceptor_pathree_table.loc[ireceptor_pathree_table['productive'] == 'T']\n",
    "ireceptor_pathree_tra_table = ireceptor_pathree_table.loc[ireceptor_pathree_table['locus'] == 'TRA'][['data_processing_id', 'cell_id', 'clone_id', 'v_call', 'd_call', 'j_call', 'junction_aa']]\n",
    "ireceptor_pathree_tra_table = ireceptor_pathree_tra_table.rename(columns={'v_call': 'trav_gene',\n",
    "    'd_call': 'trad_gene', 'j_call': 'traj_gene', 'junction_aa': 'tra_junction_aa'})\n",
    "ireceptor_pathree_trb_table = ireceptor_pathree_table.loc[ireceptor_pathree_table['locus'] == 'TRB'][['data_processing_id', 'cell_id', 'clone_id', 'v_call', 'd_call', 'j_call', 'junction_aa']]\n",
    "ireceptor_pathree_trb_table = ireceptor_pathree_trb_table.rename(columns={'v_call': 'trbv_gene',\n",
    "    'd_call': 'trbd_gene', 'j_call': 'trbj_gene', 'junction_aa': 'trb_junction_aa'})\n",
    "ireceptor_pathree_tcr_table = pd.merge(ireceptor_pathree_tra_table, ireceptor_pathree_trb_table, \n",
    "    on=['data_processing_id', 'cell_id', 'clone_id']).rename(columns={'data_processing_id': 'repertoire_id'})\n",
    "ireceptor_pathree_tcr_table = ireceptor_pathree_tcr_table.drop(columns=['cell_id', 'clone_id'])\n",
    "ireceptor_pathree_tcr_table"
   ]
  },
  {
   "cell_type": "markdown",
   "metadata": {},
   "source": [
    "### iReceptor PA3 metadata"
   ]
  },
  {
   "cell_type": "code",
   "execution_count": null,
   "metadata": {},
   "outputs": [],
   "source": [
    "ireceptor_pathree_meta_path = Path(\"data/tcr_llm/databases/ireceptor/ireceptor-public-archive_part3-metadata.json\")\n",
    "with open(ireceptor_pathree_meta_path) as meta_file:\n",
    "    ireceptor_pathree_metadata = json.load(meta_file)\n",
    "ireceptor_pathree_metadata_list = list()\n",
    "for repertoires in ireceptor_pathree_metadata[\"Repertoire\"]:\n",
    "    repertoire_dict = dict()\n",
    "    repertoire_dict['study_id'] = repertoires['study']['study_id']\n",
    "    repertoire_dict['repertoire_id'] = repertoires['data_processing'][0]['data_processing_id']\n",
    "    repertoire_dict['host_organism'] = repertoires['subject']['species']['label']\n",
    "    if repertoires['subject']['diagnosis'][0]['disease_diagnosis']['label'] == None:\n",
    "        repertoire_dict['condition_studies'] = repertoires['subject']['diagnosis'][0]['study_group_description']\n",
    "    else:\n",
    "        repertoire_dict['condition_studies'] = repertoires['subject']['diagnosis'][0]['study_group_description'] + ' ' + repertoires['subject']['diagnosis'][0]['disease_diagnosis']['label']\n",
    "    repertoire_dict['age'] = repertoires['subject']['age']\n",
    "    repertoire_dict['sex'] = repertoires['subject']['sex']\n",
    "    repertoire_dict['population_surveyed'] = repertoires['subject']['race']\n",
    "    mhc_list = set()\n",
    "    for mhc_genotypes in repertoires['subject']['genotype']['mhc_genotype_set']['mhc_genotype_list']:\n",
    "        for alleles in mhc_genotypes['mhc_alleles']:\n",
    "            if alleles['allele_designation'] == None:\n",
    "                continue\n",
    "            else:\n",
    "                mhc_list.add(alleles['allele_designation'])\n",
    "    repertoire_dict['mhc_profile'] = ','.join(sorted(list(mhc_list))) if list(mhc_list) else pd.NA\n",
    "    repertoire_dict['source_tissue'] = repertoires['sample'][0]['tissue']['label']\n",
    "    ireceptor_pathree_metadata_list.append(repertoire_dict)\n",
    "ireceptor_pathree_metadata_table = pd.DataFrame(ireceptor_pathree_metadata_list).drop_duplicates()\n",
    "ireceptor_pathree_metadata_table = pd.merge(ireceptor_pathree_metadata_table,\n",
    "                                            ireceptor_pathree_tcr_table,\n",
    "                                            on = \"repertoire_id\", how = \"inner\")\n",
    "ireceptor_pathree_metadata_table"
   ]
  },
  {
   "cell_type": "markdown",
   "metadata": {},
   "source": [
    "### iReceptor PA3 sequence table"
   ]
  },
  {
   "cell_type": "code",
   "execution_count": null,
   "metadata": {},
   "outputs": [],
   "source": [
    "ireceptor_pathree_sequence_table = ireceptor_pathree_metadata_table[['tra_junction_aa', 'trb_junction_aa']].rename(columns={'tra_junction_aa': 'tra', 'trb_junction_aa': 'trb'})\n",
    "ireceptor_pathree_sequence_table['sequence'] = ireceptor_pathree_sequence_table['tra'] + ' ' + ireceptor_pathree_sequence_table['trb'] + ';'\n",
    "ireceptor_pathree_sequence_table = ireceptor_pathree_sequence_table.drop_duplicates()\n",
    "ireceptor_pathree_sequence_table"
   ]
  },
  {
   "cell_type": "markdown",
   "metadata": {},
   "source": [
    "## University of munster\n",
    "The university of munster dataset contains 184166 TRB sequences (from https://agschwab.uni-muenster.de/airr/v1/) from bulk TCR sequencing datasets"
   ]
  },
  {
   "cell_type": "code",
   "execution_count": null,
   "metadata": {},
   "outputs": [],
   "source": [
    "umunster_path = Path('/home/sravisha/projects/quest/data/tcr_llm/databases/ireceptor/university-of-munster.tsv')\n",
    "umunster_table = pd.read_csv(umunster_path, sep = \"\\t\", nrows=500000)\n",
    "umunster_table = umunster_table[['repertoire_id', \n",
    "    'cell_id', 'clone_id', 'productive', 'locus', 'v_call', 'd_call', 'j_call',\n",
    "    'cdr1_aa', 'cdr2_aa', 'cdr3_aa', 'junction_aa']]\n",
    "umunster_table = umunster_table.loc[umunster_table['productive'] == 'T']\n",
    "umunster_trb_table = umunster_table.loc[umunster_table['locus'] == 'TRB'][['repertoire_id',  'cell_id', 'clone_id', 'v_call', 'd_call', 'j_call', 'junction_aa']]\n",
    "umunster_trb_table['repertoire_id'] = umunster_trb_table['repertoire_id'].astype('str')\n",
    "umunster_trb_table"
   ]
  },
  {
   "cell_type": "markdown",
   "metadata": {},
   "source": [
    "### University of munster metadata"
   ]
  },
  {
   "cell_type": "code",
   "execution_count": null,
   "metadata": {},
   "outputs": [],
   "source": [
    "umunster_meta_path = Path(\"/home/sravisha/projects/quest/data/tcr_llm/databases/ireceptor/university-of-munster-metadata.json\")\n",
    "with open(umunster_meta_path) as meta_file:\n",
    "    umunster_meta_path = json.load(meta_file)\n",
    "umunster_metadata_list = list()\n",
    "for repertoires in umunster_meta_path[\"Repertoire\"]:\n",
    "    repertoire_dict = dict()\n",
    "    repertoire_dict['study_id'] = repertoires['study']['study_id']\n",
    "    repertoire_dict['repertoire_id'] = repertoires['repertoire_id']\n",
    "    repertoire_dict['host_organism'] = repertoires['subject']['species']['label']\n",
    "    if repertoires['subject']['diagnosis'][0]['disease_diagnosis']['label'] == None:\n",
    "        repertoire_dict['condition_studies'] = repertoires['subject']['diagnosis'][0]['study_group_description']\n",
    "    else:\n",
    "        repertoire_dict['condition_studies'] = repertoires['subject']['diagnosis'][0]['study_group_description'] + ' ' + repertoires['subject']['diagnosis'][0]['disease_diagnosis']['label']\n",
    "    repertoire_dict['age'] = repertoires['subject']['age']\n",
    "    repertoire_dict['sex'] = repertoires['subject']['sex']\n",
    "    repertoire_dict['population_surveyed'] = repertoires['subject']['race']\n",
    "    mhc_list = set()\n",
    "    if 'genotype' in repertoires['subject']:\n",
    "        for mhc_genotypes in repertoires['subject']['genotype']['mhc_genotype_set']['mhc_genotype_list']:\n",
    "            for alleles in mhc_genotypes['mhc_alleles']:\n",
    "                if alleles['allele_designation'] == None:\n",
    "                    continue\n",
    "                else:\n",
    "                    mhc_list.add(alleles['allele_designation'])\n",
    "    repertoire_dict['mhc_profile'] = ','.join(sorted(list(mhc_list))) if list(mhc_list) else pd.NA\n",
    "    repertoire_dict['source_tissue'] = repertoires['sample'][0]['tissue']['label']\n",
    "    umunster_metadata_list.append(repertoire_dict)\n",
    "umunster_meta_path = pd.DataFrame(umunster_metadata_list).drop_duplicates()\n",
    "umunster_meta_path['repertoire_id'] = umunster_meta_path['repertoire_id'].astype('str')\n",
    "umunster_meta_path = pd.merge(umunster_meta_path, umunster_table, on = \"repertoire_id\", how = \"inner\")\n",
    "umunster_meta_path"
   ]
  },
  {
   "cell_type": "markdown",
   "metadata": {},
   "source": [
    "### University of munster sequence table"
   ]
  },
  {
   "cell_type": "code",
   "execution_count": null,
   "metadata": {},
   "outputs": [],
   "source": [
    "umunster_sequence_table = umunster_meta_path[['junction_aa']]\n",
    "umunster_sequence_table = umunster_sequence_table.loc[umunster_sequence_table['junction_aa'].notna()]\n",
    "umunster_sequence_table = umunster_sequence_table.loc[~umunster_sequence_table['junction_aa'].str.contains('_')]\n",
    "umunster_sequence_table = umunster_sequence_table.rename(columns={'junction_aa': 'trb'})\n",
    "umunster_sequence_table['sequence'] = umunster_sequence_table['trb'] + ';'\n",
    "umunster_sequence_table = umunster_sequence_table.drop_duplicates()\n",
    "umunster_sequence_table"
   ]
  },
  {
   "cell_type": "markdown",
   "metadata": {},
   "source": [
    "## VDJServer\n",
    "\n",
    "VDJServer contains bulk TCR sequencing data of both the alpha and beta chain sequencing datasets. This database contains a total of  193647 sequences (from https://vdjserver.org/airr/v1/)"
   ]
  },
  {
   "cell_type": "code",
   "execution_count": null,
   "metadata": {},
   "outputs": [],
   "source": [
    "vdjserver_path = Path('/home/sravisha/projects/quest/data/tcr_llm/databases/ireceptor/vdjserver.tsv')\n",
    "vdjserver_table = pd.read_csv(vdjserver_path, sep = \"\\t\")\n",
    "vdjserver_table = vdjserver_table[['data_processing_id', 'repertoire_id', \n",
    "    'cell_id', 'clone_id', 'productive', 'locus', 'v_call', 'd_call', 'j_call',\n",
    "    'cdr1_aa', 'cdr2_aa', 'cdr3_aa', 'junction_aa']]\n",
    "vdjserver_table = vdjserver_table.loc[vdjserver_table['productive']]\n",
    "vdjserver_table_tra_table = vdjserver_table.loc[vdjserver_table['locus'] == 'TRA'][['repertoire_id', 'cell_id', 'clone_id', 'v_call', 'd_call', 'j_call', 'junction_aa']]\n",
    "vdjserver_table_tra_table = vdjserver_table_tra_table.rename(columns={'v_call': 'trav_gene',\n",
    "    'd_call': 'trad_gene', 'j_call': 'traj_gene', 'junction_aa': 'tra_junction_aa'})\n",
    "vdjserver_table_trb_table = vdjserver_table.loc[vdjserver_table['locus'] == 'TRB'][['repertoire_id', 'cell_id', 'clone_id', 'v_call', 'd_call', 'j_call', 'junction_aa']]\n",
    "vdjserver_table_trb_table = vdjserver_table_trb_table.rename(columns={'v_call': 'trbv_gene',\n",
    "    'd_call': 'trbd_gene', 'j_call': 'trbj_gene', 'junction_aa': 'trb_junction_aa'})\n",
    "vdjserver_table_tcr_table = pd.merge(vdjserver_table_tra_table, vdjserver_table_trb_table, \n",
    "    on=['repertoire_id', 'cell_id', 'clone_id']) #.rename(columns={'data_processing_id': 'repertoire_id'})\n",
    "vdjserver_table_tcr_table = vdjserver_table_tcr_table.drop(columns=['cell_id', 'clone_id'])\n",
    "vdjserver_table_tcr_table"
   ]
  },
  {
   "cell_type": "markdown",
   "metadata": {},
   "source": [
    "### VDJServer metadata"
   ]
  },
  {
   "cell_type": "code",
   "execution_count": null,
   "metadata": {},
   "outputs": [],
   "source": [
    "vdjserver_meta_path = Path(\"/home/sravisha/projects/quest/data/tcr_llm/databases/ireceptor/vdjserver-metadata.json\")\n",
    "with open(vdjserver_meta_path) as meta_file:\n",
    "    vdjserver_metadata = json.load(meta_file)\n",
    "vdjserver_metadata_list = list()\n",
    "for repertoires in vdjserver_metadata[\"Repertoire\"]:\n",
    "    repertoire_dict = dict()\n",
    "    repertoire_dict['study_id'] = repertoires['study']['study_id']\n",
    "    repertoire_dict['repertoire_id'] = repertoires['repertoire_id']\n",
    "    repertoire_dict['host_organism'] = repertoires['subject']['species']['label']\n",
    "    if repertoires['subject']['diagnosis'][0]['disease_diagnosis']['label'] == None:\n",
    "        repertoire_dict['condition_studies'] = repertoires['subject']['diagnosis'][0]['study_group_description']\n",
    "    else:\n",
    "        repertoire_dict['condition_studies'] = repertoires['subject']['diagnosis'][0]['study_group_description'] + ' ' + repertoires['subject']['diagnosis'][0]['disease_diagnosis']['label']\n",
    "    repertoire_dict['age'] = repertoires['subject']['age'] if 'age' in repertoires['subject'] else pd.NA\n",
    "    repertoire_dict['sex'] = repertoires['subject']['sex']\n",
    "    repertoire_dict['population_surveyed'] = repertoires['subject']['race']\n",
    "    mhc_list = set()\n",
    "    for mhc_genotypes in repertoires['subject']['genotype']['mhc_genotype_set']['mhc_genotype_list']:\n",
    "        for alleles in mhc_genotypes['mhc_alleles']:\n",
    "            if alleles['allele_designation'] == None:\n",
    "                continue\n",
    "            else:\n",
    "                mhc_list.add(alleles['allele_designation'])\n",
    "    repertoire_dict['mhc_profile'] = ','.join(sorted(list(mhc_list))) if list(mhc_list) else pd.NA\n",
    "    repertoire_dict['source_tissue'] = repertoires['sample'][0]['tissue']['label']\n",
    "    vdjserver_metadata_list.append(repertoire_dict)\n",
    "vdjserver_metadata_table = pd.DataFrame(vdjserver_metadata_list).drop_duplicates()\n",
    "vdjserver_metadata_table = pd.merge(vdjserver_metadata_table,\n",
    "                                            vdjserver_table_tcr_table,\n",
    "                                            on = \"repertoire_id\", how = \"inner\")\n",
    "vdjserver_metadata_table"
   ]
  },
  {
   "cell_type": "markdown",
   "metadata": {},
   "source": [
    "### VDJServer sequencing table"
   ]
  },
  {
   "cell_type": "code",
   "execution_count": null,
   "metadata": {},
   "outputs": [],
   "source": [
    "vdjserver_sequence_table = vdjserver_metadata_table[['tra_junction_aa', 'trb_junction_aa']].rename(columns={'tra_junction_aa': 'tra', 'trb_junction_aa': 'trb'})\n",
    "vdjserver_sequence_table['sequence'] = vdjserver_sequence_table['tra'] + ' ' + vdjserver_sequence_table['trb'] + ';'\n",
    "vdjserver_sequence_table = vdjserver_sequence_table.drop_duplicates()\n",
    "vdjserver_sequence_table"
   ]
  },
  {
   "cell_type": "markdown",
   "metadata": {},
   "source": [
    "# McPAS-TCR"
   ]
  },
  {
   "cell_type": "code",
   "execution_count": null,
   "metadata": {},
   "outputs": [],
   "source": [
    "mcpastcr_path = Path(\"data/tcr_llm/databases/McPASDB/McPAS-TCR.csv\")\n",
    "mcpastcr_table = pd.read_csv(mcpastcr_path)"
   ]
  },
  {
   "cell_type": "markdown",
   "metadata": {},
   "source": [
    "## McPAS-TCR metadata"
   ]
  },
  {
   "cell_type": "code",
   "execution_count": null,
   "metadata": {},
   "outputs": [],
   "source": [
    "# Make a copy of mcpastcr_table for renaming and updating columns\n",
    "mcpastcr_metadata_table = mcpastcr_table\n",
    "\n",
    "# Rename specific columns to standardized metadata names\n",
    "mcpastcr_metadata_table = mcpastcr_metadata_table.rename(columns={\n",
    "    'TRAV': 'trav_gene',                   # TCR alpha variable gene\n",
    "    'TRAJ': 'traj_gene',                   # TCR alpha joining gene\n",
    "    'CDR3.alpha.aa': 'tra_junction_aa',    # TCR alpha CDR3 region (junction) amino acid sequence\n",
    "    'TRBV': 'trbv_gene',                   # TCR beta variable gene\n",
    "    'TRBD': 'trbd_gene',                   # TCR beta diversity gene\n",
    "    'TRBJ': 'trbj_gene',                   # TCR beta joining gene\n",
    "    'CDR3.beta.aa': 'trb_junction_aa',     # TCR beta CDR3 region (junction) amino acid sequence\n",
    "    'PubMed.ID': 'study_id',               # Identifier for the publication\n",
    "    'Category': 'host_condition',          # Health condition of the host\n",
    "    'Species': 'host_organism',            # Organism species of the host\n",
    "    'Epitope.peptide': 'peptide',          # Epitope peptide sequence\n",
    "    'Antigen.identification.method': 'assay_method',  # Method used for antigen identification\n",
    "    'Antigen.protein': 'epitope_source_molecule',     # Source protein of the epitope\n",
    "    'Protein.ID': 'epitope_reference_name',           # Reference name for the source protein\n",
    "    'Pathology': 'epitope_source_organism',           # Organism from which epitope is derived\n",
    "    'MHC': 'mhc_restriction'                          # MHC restriction for the TCR\n",
    "})\n",
    "\n",
    "# Add new columns with metadata that may be missing in the dataset\n",
    "mcpastcr_metadata_table['data_source'] = 'McPAS-TCR'         # Source of the dataset\n",
    "mcpastcr_metadata_table['study_id_type'] = 'PMID'            # Type of study identifier (PubMed ID)\n",
    "\n",
    "# Reorder columns to a standardized format for consistency\n",
    "mcpastcr_metadata_table = mcpastcr_metadata_table[\n",
    "    ['data_source', 'study_id', 'study_id_type', 'repertoire_id', \n",
    "     'host_organism', 'trav_gene', 'traj_gene', 'tra_junction_aa',  \n",
    "     'trbv_gene', 'trbd_gene', 'trbj_gene', 'trb_junction_aa', \n",
    "     'peptide', 'epitope_reference_name', 'epitope_source_molecule', \n",
    "     'epitope_source_organism', 'mhc_restriction', 'assay_method']\n",
    "]\n",
    "\n",
    "# Output the transformed metadata table\n",
    "mcpastcr_metadata_table\n",
    "\n"
   ]
  },
  {
   "cell_type": "markdown",
   "metadata": {},
   "source": [
    "## McPAS-TCR sequence table"
   ]
  },
  {
   "cell_type": "code",
   "execution_count": null,
   "metadata": {},
   "outputs": [],
   "source": [
    "# Select relevant columns from the metadata table for the sequence table\n",
    "mcpastcr_sequence_table = mcpastcr_metadata_table[['tra_junction_aa', 'trb_junction_aa', 'peptide', 'mhc_restriction']]\n",
    "\n",
    "# Apply the `transform_mhc_restriction` function to the MHC restriction column, using `combined_fasta_dict` for mapping\n",
    "mcpastcr_sequence_table.loc[:, 'mhc_restriction'] = mcpastcr_sequence_table['mhc_restriction'].apply(\n",
    "    transform_mhc_restriction, fasta_dict=combined_fasta_dict\n",
    ")\n",
    "\n",
    "# Add a new 'mhc' column by mapping each transformed MHC restriction value to `combined_fasta_dict`\n",
    "mcpastcr_sequence_table.loc[:, 'mhc'] = mcpastcr_sequence_table['mhc_restriction'].apply(\n",
    "    lambda mhc: combined_fasta_dict.get(mhc, pd.NA)\n",
    ")\n",
    "\n",
    "# Split the 'peptide' column on '/' (if it contains multiple peptides), expand to separate rows for each peptide\n",
    "mcpastcr_sequence_table = mcpastcr_sequence_table.assign(\n",
    "    values=mcpastcr_sequence_table['peptide'].str.split('/')\n",
    ").explode('peptide', ignore_index=True)\n",
    "\n",
    "# Rename the TCR alpha and beta junction columns to 'tra' and 'trb' for consistency\n",
    "mcpastcr_sequence_table = mcpastcr_sequence_table.rename(\n",
    "    columns={'tra_junction_aa': 'tra', 'trb_junction_aa': 'trb'}\n",
    ")\n",
    "\n",
    "# Drop the original 'mhc_restriction' column, since it's no longer needed\n",
    "mcpastcr_sequence_table = mcpastcr_sequence_table.drop(columns=['mhc_restriction'])\n",
    "\n",
    "# Create a new 'sequence' column by concatenating 'tra', 'trb', 'peptide', and 'mhc' values into a single string\n",
    "# Join non-null values with a space, and exclude values containing '*'\n",
    "mcpastcr_sequence_table['sequence'] = mcpastcr_sequence_table[['tra', 'trb', 'peptide', 'mhc']].agg(\n",
    "    lambda x: ' '.join([val for val in x if pd.notna(val) and '*' not in val]) + ';',\n",
    "    axis=1\n",
    ")\n",
    "\n",
    "# Select relevant columns and remove duplicate rows\n",
    "mcpastcr_sequence_table = mcpastcr_sequence_table[['tra', 'trb', 'peptide', 'mhc', 'sequence']]\n",
    "mcpastcr_sequence_table.drop_duplicates()\n"
   ]
  },
  {
   "cell_type": "markdown",
   "metadata": {},
   "source": [
    "# TCRdb"
   ]
  },
  {
   "cell_type": "code",
   "execution_count": null,
   "metadata": {},
   "outputs": [],
   "source": [
    "# Define the path to the TCRdb directory and initialize an empty list to store dataframes\n",
    "tcrdb_path = Path(\"data/tcr_llm/databases/TCRdb\")\n",
    "tcrdb_file_list = list()\n",
    "\n",
    "# Iterate through all .tsv files in the TCRdb directory and its subdirectories\n",
    "for tcrdb_files in tcrdb_path.rglob(\"*.tsv\"):\n",
    "    study_id = tcrdb_files.stem  # Use the filename (without extension) as the study_id\n",
    "    tcr_table = pd.read_csv(tcrdb_files, sep=\"\\t\")  # Read the .tsv file into a dataframe\n",
    "    \n",
    "    # Rename columns to standardize naming across data sources\n",
    "    tcr_table.rename(columns={\n",
    "        'RunId': 'repertoire_id',       # Unique identifier for each TCR repertoire\n",
    "        'Vregion': 'trbv_gene',         # TCR beta variable gene\n",
    "        'Dregion': 'trbd_gene',         # TCR beta diversity gene\n",
    "        'Jregion': 'trbj_gene',         # TCR beta joining gene\n",
    "        'AASeq': 'trb_junction_aa'      # TCR beta CDR3 region (junction) amino acid sequence\n",
    "    }, inplace=True)\n",
    "    \n",
    "    # Remove 'cloneFraction' column as it is not needed for this analysis\n",
    "    tcr_table.drop(columns=['cloneFraction'], inplace=True)\n",
    "    \n",
    "    # Add the study ID as a new column for tracking the source of each row\n",
    "    tcr_table['study_id'] = study_id\n",
    "    \n",
    "    # Replace any 'Unknown' values with NA to handle missing data consistently\n",
    "    tcr_table = tcr_table.replace('Unknown', pd.NA)\n",
    "    \n",
    "    # Reorder columns for consistency and select only relevant columns\n",
    "    tcr_table = tcr_table[['study_id', 'repertoire_id', 'trbv_gene', 'trbd_gene', \n",
    "                           'trbj_gene', 'trb_junction_aa']]\n",
    "    \n",
    "    # Append the processed dataframe to the list\n",
    "    tcrdb_file_list.append(tcr_table)\n",
    "\n",
    "# Concatenate all dataframes from the list into a single dataframe\n",
    "tcrdb_metadata_table = pd.concat(tcrdb_file_list)\n",
    "\n",
    "# Create the sequence table by selecting and renaming columns as needed\n",
    "tcrdb_sequence_table = tcrdb_metadata_table[['trb_junction_aa']].rename(columns={'trb_junction_aa': 'trb'})\n",
    "\n",
    "# Create a 'sequence' column by appending a semicolon to each 'trb' value\n",
    "tcrdb_sequence_table['sequence'] = tcrdb_sequence_table['trb'] + ';'\n",
    "\n",
    "# Remove duplicate sequences to get unique rows\n",
    "tcrdb_sequence_table = tcrdb_sequence_table.drop_duplicates()\n",
    "\n",
    "# Display the resulting sequence table\n",
    "tcrdb_sequence_table\n",
    "\n"
   ]
  },
  {
   "cell_type": "markdown",
   "metadata": {},
   "source": [
    "# VdjDB"
   ]
  },
  {
   "cell_type": "code",
   "execution_count": null,
   "metadata": {},
   "outputs": [],
   "source": [
    "# Define the path to the VDJdb full data file\n",
    "vdjdb_path = Path(\"data/tcr_llm/databases/VdjDB/vdjdb_full.txt\")\n",
    "\n",
    "# Read the VDJdb data into a DataFrame, specifying tab as the separator\n",
    "vdjdb_table = pd.read_csv(vdjdb_path, sep=\"\\t\")\n",
    "\n",
    "# Filter the data to include only human (Homo sapiens) entries\n",
    "vdjdb_table = vdjdb_table.loc[vdjdb_table['species'] == 'HomoSapiens']\n",
    "\n",
    "# Rename columns to standardize naming across datasets and improve clarity\n",
    "vdjdb_table = vdjdb_table.rename(columns={\n",
    "    'cdr3.alpha': 'tra_junction_aa',                # TCR alpha CDR3 region (junction) amino acid sequence\n",
    "    'v.alpha': 'trav_gene',                         # TCR alpha variable gene\n",
    "    'j.alpha': 'traj_gene',                         # TCR alpha joining gene\n",
    "    'cdr3.beta': 'trb_junction_aa',                 # TCR beta CDR3 region (junction) amino acid sequence\n",
    "    'v.beta': 'trbv_gene',                          # TCR beta variable gene\n",
    "    'd.beta': 'trbd_gene',                          # TCR beta diversity gene\n",
    "    'j.beta': 'trbj_gene',                          # TCR beta joining gene\n",
    "    'species': 'host_organism',                     # Species of the host organism\n",
    "    'mhc.a': 'mhc_restriction',                     # MHC restriction (type A)\n",
    "    'mhc.b': 'mhc_restriction_two',                 # MHC restriction (type B)\n",
    "    'mhc.class': 'mhc_class',                       # MHC class (I or II)\n",
    "    'antigen.epitope': 'peptide',                   # Epitope peptide sequence\n",
    "    'antigen.gene': 'epitope_source_molecule',      # Source molecule for the epitope\n",
    "    'antigen.species': 'epitope_source_organism',   # Organism from which the epitope is derived\n",
    "    'reference.id': 'study_id',                     # Reference ID for the study\n",
    "    'method.verification': 'assay_method',          # Method used for verification\n",
    "    'meta.epitope.id': 'epitope_reference_name',    # ID of the epitope reference\n",
    "    'meta.tissue': 'source_tissue',                 # Tissue source of the sample\n",
    "    'meta.donor.MHC': 'mhc_profile'                # MHC profile of the donor\n",
    "})\n",
    "\n",
    "# Drop columns that are not needed for further analysis\n",
    "vdjdb_metadata_table = vdjdb_table.drop(columns=[\n",
    "    'method.identification',      # Identification method (not needed here)\n",
    "    'method.frequency',           # Frequency method\n",
    "    'method.singlecell',          # Single-cell method\n",
    "    'method.sequencing',          # Sequencing method\n",
    "    'meta.study.id',              # Study ID metadata\n",
    "    'meta.cell.subset',           # Cell subset information\n",
    "    'meta.subject.cohort',        # Subject cohort information\n",
    "    'meta.subject.id',            # Subject ID\n",
    "    'meta.replica.id',            # Replica ID\n",
    "    'meta.clone.id',              # Clone ID\n",
    "    'meta.donor.MHC.method',      # Donor MHC method\n",
    "    'meta.structure.id',          # Structure ID\n",
    "    'cdr3fix.alpha',              # Fixed alpha CDR3 sequence\n",
    "    'cdr3fix.beta',               # Fixed beta CDR3 sequence\n",
    "    'vdjdb.score'                 # VDJdb score (not needed here)\n",
    "])\n",
    "\n",
    "# Display the resulting metadata table\n",
    "vdjdb_metadata_table\n"
   ]
  },
  {
   "cell_type": "code",
   "execution_count": null,
   "metadata": {},
   "outputs": [],
   "source": [
    "# Select relevant columns for the sequence table\n",
    "vdjdb_sequence_table = vdjdb_metadata_table[['tra_junction_aa', 'trb_junction_aa', 'peptide', 'mhc_restriction', 'mhc_restriction_two']]\n",
    "\n",
    "# Apply the MHC transformation function to both 'mhc_restriction' and 'mhc_restriction_two' columns\n",
    "vdjdb_sequence_table.loc[:, 'mhc_restriction'] = vdjdb_sequence_table['mhc_restriction'].apply(\n",
    "    transform_mhc_restriction, fasta_dict=combined_fasta_dict\n",
    ")\n",
    "vdjdb_sequence_table.loc[:, 'mhc_restriction_two'] = vdjdb_sequence_table['mhc_restriction_two'].apply(\n",
    "    transform_mhc_restriction, fasta_dict=combined_fasta_dict\n",
    ")\n",
    "\n",
    "# Map the transformed MHC restrictions to the corresponding MHC sequences from 'combined_fasta_dict'\n",
    "vdjdb_sequence_table['mhc_one'] = vdjdb_sequence_table['mhc_restriction'].apply(lambda mhc: combined_fasta_dict.get(mhc, pd.NA))\n",
    "vdjdb_sequence_table['mhc_two'] = vdjdb_sequence_table['mhc_restriction_two'].apply(lambda mhc: combined_fasta_dict.get(mhc, pd.NA))\n",
    "\n",
    "# Drop the original MHC restriction columns, keeping only the mapped sequences\n",
    "vdjdb_sequence_table = vdjdb_sequence_table.drop(columns=['mhc_restriction', 'mhc_restriction_two'])\n",
    "\n",
    "# Rename columns for consistency and clarity\n",
    "vdjdb_sequence_table = vdjdb_sequence_table.rename(columns={\n",
    "    'tra_junction_aa': 'tra',        # TCR alpha junction amino acid sequence\n",
    "    'trb_junction_aa': 'trb'         # TCR beta junction amino acid sequence\n",
    "})\n",
    "\n",
    "# Concatenate non-empty values from the selected columns into a single 'sequence' field, with ';' as a suffix\n",
    "vdjdb_sequence_table['sequence'] = vdjdb_sequence_table[['tra', 'trb', 'peptide', 'mhc_one', 'mhc_two']].agg(\n",
    "    lambda x: ' '.join([val for val in x if pd.notna(val) and '*' not in val]) + ';',\n",
    "    axis=1\n",
    ")\n",
    "\n",
    "# Remove duplicate rows to ensure unique entries in the sequence table\n",
    "vdjdb_sequence_table = vdjdb_sequence_table.drop_duplicates()\n"
   ]
  }
 ],
 "metadata": {
  "kernelspec": {
   "display_name": "Python 3 (ipykernel)",
   "language": "python",
   "name": "python3"
  },
  "language_info": {
   "codemirror_mode": {
    "name": "ipython",
    "version": 3
   },
   "file_extension": ".py",
   "mimetype": "text/x-python",
   "name": "python",
   "nbconvert_exporter": "python",
   "pygments_lexer": "ipython3",
   "version": "3.12.6"
  }
 },
 "nbformat": 4,
 "nbformat_minor": 4
}
